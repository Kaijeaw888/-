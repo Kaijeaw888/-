{
 "cells": [
  {
   "cell_type": "code",
   "execution_count": null,
   "id": "e957a79a-468f-4242-9985-c0a7a0acf3ac",
   "metadata": {},
   "outputs": [],
   "source": [
    "diabetes_binary_health_indicators_BRFSS2015"
   ]
  },
  {
   "cell_type": "code",
   "execution_count": 3,
   "id": "03ce7a18-15d0-411b-878c-670572b0aa55",
   "metadata": {},
   "outputs": [],
   "source": [
    "import pandas as pd\n",
    "from sklearn.model_selection import train_test_split\n",
    "from chefboost import Chefboost as chef\n",
    "\n",
    "# โหลดข้อมูล (ตัวอย่างข้อมูล)\n",
    "iris = pd.read_csv('diabetes_binary_health_indicators_BRFSS2015.csv')  # เปลี่ยนเป็นเส้นทางไฟล์ของคุณ\n",
    "\n",
    "# ตั้งค่าชื่อคอลัมน์เป้าหมาย\n",
    "target_column = 'Diabetes_binary'  # เปลี่ยนให้ตรงกับชื่อคอลัมน์เป้าหมายของคุณ\n",
    "\n",
    "# แปลงคอลัมน์เป้าหมายให้เป็น object (สำหรับ C4.5)\n",
    "iris[target_column] = iris[target_column].astype('object')\n"
   ]
  },
  {
   "cell_type": "code",
   "execution_count": 4,
   "id": "e0ac8d3b-530a-4de2-893e-ac2d54be443e",
   "metadata": {},
   "outputs": [],
   "source": [
    "# แยกข้อมูลเป็น features (X) และ target (y)\n",
    "X = iris.drop(columns=[target_column])\n",
    "y = iris[target_column]"
   ]
  },
  {
   "cell_type": "code",
   "execution_count": 5,
   "id": "fb233949-e3c0-40da-b484-e073d5f843de",
   "metadata": {},
   "outputs": [],
   "source": [
    "from sklearn.model_selection import train_test_split\n",
    "from sklearn.preprocessing import StandardScaler\n",
    "import pandas as pd"
   ]
  },
  {
   "cell_type": "code",
   "execution_count": 6,
   "id": "607c7478-0931-4a5d-9834-77de1bf1f18b",
   "metadata": {},
   "outputs": [],
   "source": [
    "# แยก features และ target\n",
    "X = iris.drop(columns=['Diabetes_binary'])  # features\n",
    "y = iris['Diabetes_binary']  # target"
   ]
  },
  {
   "cell_type": "code",
   "execution_count": 7,
   "id": "8d814682-a456-4191-8eb1-c28d493239e6",
   "metadata": {},
   "outputs": [],
   "source": [
    "# แบ่งข้อมูลเป็น training และ testing\n",
    "X_train, X_test, y_train, y_test = train_test_split(X, y, test_size=0.3, random_state=42)"
   ]
  },
  {
   "cell_type": "code",
   "execution_count": 8,
   "id": "27f74df2-4e86-471e-bb1c-ca8289f414f9",
   "metadata": {},
   "outputs": [
    {
     "name": "stdout",
     "output_type": "stream",
     "text": [
      "[1.0 0.0]\n"
     ]
    }
   ],
   "source": [
    "print(y_train.unique())  # ดูค่าที่มีใน target variable\n"
   ]
  },
  {
   "cell_type": "code",
   "execution_count": 9,
   "id": "380781e0-f182-40c6-9697-a524e77d1cbc",
   "metadata": {},
   "outputs": [],
   "source": [
    "y_train = y_train.astype(int)  # แปลงเป็น integer (ถ้าต้องการเป็น 0 หรือ 1)\n",
    "y_test = y_test.astype(int)"
   ]
  },
  {
   "cell_type": "code",
   "execution_count": 10,
   "id": "6621dd3c-2163-450d-9bef-9b09de77055a",
   "metadata": {},
   "outputs": [],
   "source": [
    "y_train = y_train.dropna()  # ลบค่าหายไป\n",
    "y_test = y_test.dropna()"
   ]
  },
  {
   "cell_type": "code",
   "execution_count": 12,
   "id": "db77d66d-f4ef-4789-9b5b-406d0c741025",
   "metadata": {},
   "outputs": [
    {
     "name": "stdout",
     "output_type": "stream",
     "text": [
      "Collecting imblearn\n",
      "  Downloading imblearn-0.0-py2.py3-none-any.whl.metadata (355 bytes)\n",
      "Collecting imbalanced-learn (from imblearn)\n",
      "  Downloading imbalanced_learn-0.13.0-py3-none-any.whl.metadata (8.8 kB)\n",
      "Requirement already satisfied: numpy<3,>=1.24.3 in c:\\users\\travelmate1\\.conda\\envs\\project\\lib\\site-packages (from imbalanced-learn->imblearn) (2.2.1)\n",
      "Requirement already satisfied: scipy<2,>=1.10.1 in c:\\users\\travelmate1\\.conda\\envs\\project\\lib\\site-packages (from imbalanced-learn->imblearn) (1.15.1)\n",
      "Requirement already satisfied: scikit-learn<2,>=1.3.2 in c:\\users\\travelmate1\\.conda\\envs\\project\\lib\\site-packages (from imbalanced-learn->imblearn) (1.6.1)\n",
      "Collecting sklearn-compat<1,>=0.1 (from imbalanced-learn->imblearn)\n",
      "  Downloading sklearn_compat-0.1.3-py3-none-any.whl.metadata (18 kB)\n",
      "Requirement already satisfied: joblib<2,>=1.1.1 in c:\\users\\travelmate1\\.conda\\envs\\project\\lib\\site-packages (from imbalanced-learn->imblearn) (1.4.2)\n",
      "Requirement already satisfied: threadpoolctl<4,>=2.0.0 in c:\\users\\travelmate1\\.conda\\envs\\project\\lib\\site-packages (from imbalanced-learn->imblearn) (3.5.0)\n",
      "Downloading imblearn-0.0-py2.py3-none-any.whl (1.9 kB)\n",
      "Downloading imbalanced_learn-0.13.0-py3-none-any.whl (238 kB)\n",
      "Downloading sklearn_compat-0.1.3-py3-none-any.whl (18 kB)\n",
      "Installing collected packages: sklearn-compat, imbalanced-learn, imblearn\n",
      "Successfully installed imbalanced-learn-0.13.0 imblearn-0.0 sklearn-compat-0.1.3\n",
      "Note: you may need to restart the kernel to use updated packages.\n"
     ]
    }
   ],
   "source": [
    "pip install imblearn"
   ]
  },
  {
   "cell_type": "code",
   "execution_count": 13,
   "id": "f00efd41-14c3-472c-af4b-2982c3039111",
   "metadata": {},
   "outputs": [],
   "source": [
    "# แปลง target ให้เป็น int หากมันไม่ใช่\n",
    "y = y.astype(int)\n",
    "\n",
    "# แบ่งข้อมูลเป็น training และ testing\n",
    "X_train, X_test, y_train, y_test = train_test_split(X, y, test_size=0.3, random_state=42)\n",
    "from imblearn.over_sampling import SMOTE"
   ]
  },
  {
   "cell_type": "code",
   "execution_count": 14,
   "id": "c5ec60e4-c76d-4e6a-8a09-642aa9cd3ebb",
   "metadata": {},
   "outputs": [],
   "source": [
    "# ใช้ SMOTE เพื่อเพิ่มข้อมูลในคลาสที่มีน้อย\n",
    "smote = SMOTE(sampling_strategy='minority', random_state=42)\n",
    "X_resampled, y_resampled = smote.fit_resample(X_train, y_train)"
   ]
  },
  {
   "cell_type": "code",
   "execution_count": 15,
   "id": "fb9c0160-c7a2-46ad-bc29-83f8aa745806",
   "metadata": {},
   "outputs": [],
   "source": [
    "# รวมข้อมูลที่ resample และ target กลับเป็น DataFrame\n",
    "train_data_resampled = pd.DataFrame(X_resampled, columns=X.columns)\n",
    "train_data_resampled['Diabetes_binary'] = y_resampled"
   ]
  },
  {
   "cell_type": "code",
   "execution_count": 2,
   "id": "d74deec4-60ff-44aa-9f64-8ff9c4081514",
   "metadata": {},
   "outputs": [
    {
     "name": "stdout",
     "output_type": "stream",
     "text": [
      "Collecting Chefboost\n",
      "  Downloading chefboost-0.0.19-py3-none-any.whl.metadata (12 kB)\n",
      "Requirement already satisfied: pandas>=0.22.0 in c:\\users\\travelmate1\\.conda\\envs\\project\\lib\\site-packages (from Chefboost) (2.2.3)\n",
      "Requirement already satisfied: numpy>=1.14.0 in c:\\users\\travelmate1\\.conda\\envs\\project\\lib\\site-packages (from Chefboost) (2.2.1)\n",
      "Collecting tqdm>=4.30.0 (from Chefboost)\n",
      "  Downloading tqdm-4.67.1-py3-none-any.whl.metadata (57 kB)\n",
      "Requirement already satisfied: psutil>=5.4.3 in c:\\users\\travelmate1\\.conda\\envs\\project\\lib\\site-packages (from Chefboost) (5.9.0)\n",
      "Requirement already satisfied: python-dateutil>=2.8.2 in c:\\users\\travelmate1\\.conda\\envs\\project\\lib\\site-packages (from pandas>=0.22.0->Chefboost) (2.9.0.post0)\n",
      "Requirement already satisfied: pytz>=2020.1 in c:\\users\\travelmate1\\.conda\\envs\\project\\lib\\site-packages (from pandas>=0.22.0->Chefboost) (2024.1)\n",
      "Requirement already satisfied: tzdata>=2022.7 in c:\\users\\travelmate1\\.conda\\envs\\project\\lib\\site-packages (from pandas>=0.22.0->Chefboost) (2024.2)\n",
      "Requirement already satisfied: colorama in c:\\users\\travelmate1\\.conda\\envs\\project\\lib\\site-packages (from tqdm>=4.30.0->Chefboost) (0.4.6)\n",
      "Requirement already satisfied: six>=1.5 in c:\\users\\travelmate1\\.conda\\envs\\project\\lib\\site-packages (from python-dateutil>=2.8.2->pandas>=0.22.0->Chefboost) (1.16.0)\n",
      "Downloading chefboost-0.0.19-py3-none-any.whl (32 kB)\n",
      "Downloading tqdm-4.67.1-py3-none-any.whl (78 kB)\n",
      "Installing collected packages: tqdm, Chefboost\n",
      "Successfully installed Chefboost-0.0.19 tqdm-4.67.1\n"
     ]
    }
   ],
   "source": [
    "!pip install Chefboost"
   ]
  },
  {
   "cell_type": "code",
   "execution_count": 16,
   "id": "0eb98d31-cd53-4527-901c-8c14ea148011",
   "metadata": {},
   "outputs": [],
   "source": [
    "from chefboost import Chefboost as chef"
   ]
  },
  {
   "cell_type": "code",
   "execution_count": 17,
   "id": "ecc3066f-e5fe-4fa9-9b3f-2b04b470897e",
   "metadata": {},
   "outputs": [],
   "source": [
    "train_data_resampled['Diabetes_binary'] = train_data_resampled['Diabetes_binary'].astype(str)"
   ]
  },
  {
   "cell_type": "code",
   "execution_count": 37,
   "id": "94a1a016-18ad-43bc-afdc-410e6f101486",
   "metadata": {},
   "outputs": [
    {
     "name": "stdout",
     "output_type": "stream",
     "text": [
      "25-01-20 16:53:06 - CHAID tree is going to be built...\n",
      "25-01-20 16:56:21 - -------------------------\n",
      "25-01-20 16:56:21 - finished in 194.95997881889343 seconds\n",
      "25-01-20 16:57:01 - -------------------------\n",
      "25-01-20 16:57:01 - Evaluate train set\n",
      "25-01-20 16:57:01 - -------------------------\n",
      "25-01-20 16:57:01 - Accuracy: 76.8789817258019% on 305458 instances\n",
      "25-01-20 16:57:01 - Labels: ['1' '0']\n",
      "25-01-20 16:57:01 - Confusion matrix: [[116240, 34136], [36489, 118593]]\n",
      "25-01-20 16:57:01 - Precision: 77.2996%, Recall: 76.1087%, F1: 76.6995%\n"
     ]
    }
   ],
   "source": [
    "# สร้าง config สำหรับ C4.5\n",
    "config = {\n",
    "    'algorithm': 'CHAID'\n",
    "}\n",
    "# สร้างโมเดล C4.5 โดยใช้ Chefboost\n",
    "model = chef.fit(train_data_resampled, config, target_label='Diabetes_binary')\n",
    "\n"
   ]
  },
  {
   "cell_type": "code",
   "execution_count": 20,
   "id": "9ffb2823-dcbb-42a0-9f8b-a621ba4584c4",
   "metadata": {},
   "outputs": [],
   "source": [
    "import pandas as pd"
   ]
  },
  {
   "cell_type": "code",
   "execution_count": 21,
   "id": "0d252301-d47a-478c-a0d1-a490bb244cb5",
   "metadata": {},
   "outputs": [],
   "source": [
    "from sklearn.metrics import accuracy_score\n",
    "\n",
    "# แปลง X_test ให้เป็น DataFrame และเพิ่ม target column สำหรับการเปรียบเทียบผลลัพธ์\n",
    "X_test = pd.DataFrame(X_test, columns=X.columns)\n",
    "X_test['Diabetes_binary'] = y_test.astype(str)  # เปลี่ยน target เป็น string เพื่อให้ตรงกับโมเดล\n"
   ]
  },
  {
   "cell_type": "code",
   "execution_count": 22,
   "id": "47a1ad6f-5237-4c6d-b483-3c9e6e8a4e36",
   "metadata": {},
   "outputs": [],
   "source": [
    "predictions = []\n",
    "for _, row in X_test.iterrows():\n",
    "    prediction = chef.predict(model, row.tolist())\n",
    "    predictions.append(prediction[0])  # ดึงผลลัพธ์การทำนาย\n",
    "\n",
    "# แปลงผลลัพธ์การทำนายให้เป็น array\n",
    "y_pred = pd.Series(predictions, index=X_test.index).astype(int) "
   ]
  },
  {
   "cell_type": "code",
   "execution_count": 23,
   "id": "93c0947d-7615-43d4-87a2-ad90b59ee6d6",
   "metadata": {},
   "outputs": [
    {
     "name": "stdout",
     "output_type": "stream",
     "text": [
      "Accuracy: 75.57158625039419 %\n"
     ]
    }
   ],
   "source": [
    "accuracy = accuracy_score(y_test, y_pred)\n",
    "print(\"Accuracy:\", accuracy * 100, \"%\")"
   ]
  },
  {
   "cell_type": "markdown",
   "id": "a12da60c-658d-4ec4-94e0-cb0f38423dbd",
   "metadata": {},
   "source": [
    "## Feature Importances"
   ]
  },
  {
   "cell_type": "code",
   "execution_count": 65,
   "id": "951998c6-3752-41cd-9eae-9482cccf5f57",
   "metadata": {},
   "outputs": [
    {
     "name": "stdout",
     "output_type": "stream",
     "text": [
      "dict_keys(['trees', 'alphas', 'config', 'nan_values', 'evaluation'])\n"
     ]
    }
   ],
   "source": [
    "print(model.keys())"
   ]
  },
  {
   "cell_type": "code",
   "execution_count": 66,
   "id": "d163fab0-d3c4-42b3-be49-c006d849b80c",
   "metadata": {},
   "outputs": [
    {
     "name": "stdout",
     "output_type": "stream",
     "text": [
      "[<module 'outputs.rules.rules' from 'C:\\\\Users\\\\TravelMate1\\\\Desktop\\\\projrectterm2\\\\outputs\\\\rules\\\\rules.py'>]\n"
     ]
    }
   ],
   "source": [
    "# ตรวจสอบข้อมูลใน model['trees']\n",
    "print(model['trees'])"
   ]
  },
  {
   "cell_type": "code",
   "execution_count": 67,
   "id": "561a8914-7352-447a-aa1e-7f26640ee1cd",
   "metadata": {},
   "outputs": [
    {
     "name": "stdout",
     "output_type": "stream",
     "text": [
      "['__builtins__', '__cached__', '__doc__', '__file__', '__loader__', '__name__', '__package__', '__spec__', 'findDecision']\n"
     ]
    }
   ],
   "source": [
    "# เปิดไฟล์ rules.py เพื่อตรวจสอบ\n",
    "import sys\n",
    "sys.path.append(r\"C:\\Users\\TravelMate1\\Desktop\\projrectterm2\\outputs\\rules\")\n",
    "\n",
    "# นำเข้าไฟล์ rules.py\n",
    "import rules\n",
    "\n",
    "# ตรวจสอบฟังก์ชันในไฟล์ rules.py\n",
    "print(dir(rules))"
   ]
  },
  {
   "cell_type": "code",
   "execution_count": 68,
   "id": "47636c10-80d4-4b60-a685-8e38cf5b416b",
   "metadata": {},
   "outputs": [
    {
     "ename": "TypeError",
     "evalue": "findDecision() missing 1 required positional argument: 'obj'",
     "output_type": "error",
     "traceback": [
      "\u001b[1;31m---------------------------------------------------------------------------\u001b[0m",
      "\u001b[1;31mTypeError\u001b[0m                                 Traceback (most recent call last)",
      "Cell \u001b[1;32mIn[68], line 1\u001b[0m\n\u001b[1;32m----> 1\u001b[0m decision_results \u001b[38;5;241m=\u001b[39m rules\u001b[38;5;241m.\u001b[39mfindDecision()\n\u001b[0;32m      3\u001b[0m \u001b[38;5;66;03m# แสดงผลลัพธ์จากการเรียกฟังก์ชัน\u001b[39;00m\n\u001b[0;32m      4\u001b[0m \u001b[38;5;28mprint\u001b[39m(decision_results)\n",
      "\u001b[1;31mTypeError\u001b[0m: findDecision() missing 1 required positional argument: 'obj'"
     ]
    }
   ],
   "source": [
    "decision_results = rules.findDecision()\n",
    "\n",
    "# แสดงผลลัพธ์จากการเรียกฟังก์ชัน\n",
    "print(decision_results)"
   ]
  },
  {
   "cell_type": "markdown",
   "id": "105ca308-c67b-4b1f-b63f-157fe1829871",
   "metadata": {},
   "source": [
    "แสดงว่า ฟังก์ชัน findDecision() ต้องการอาร์กิวเมนต์ชื่อว่า obj ซึ่งไม่ถูกส่งเข้าไปในการเรียกใช้ฟังก์ชัน"
   ]
  },
  {
   "cell_type": "code",
   "execution_count": 69,
   "id": "af6262f7-0d32-4b6e-b36e-b7727fa57387",
   "metadata": {
    "scrolled": true
   },
   "outputs": [
    {
     "name": "stdout",
     "output_type": "stream",
     "text": [
      "def findDecision(obj): #obj[0]: HighBP, obj[1]: HighChol, obj[2]: CholCheck, obj[3]: BMI, obj[4]: Smoker, obj[5]: Stroke, obj[6]: HeartDiseaseorAttack, obj[7]: PhysActivity, obj[8]: Fruits, obj[9]: Veggies, obj[10]: HvyAlcoholConsump, obj[11]: AnyHealthcare, obj[12]: NoDocbcCost, obj[13]: GenHlth, obj[14]: MentHlth, obj[15]: PhysHlth, obj[16]: DiffWalk, obj[17]: Sex, obj[18]: Age, obj[19]: Education, obj[20]: Income\n",
      "   # {\"feature\": \"HighBP\", \"instances\": 305458, \"metric_value\": 545.7428, \"depth\": 1}\n",
      "   if obj[0]>0.0:\n",
      "      # {\"feature\": \"HeartDiseaseorAttack\", \"instances\": 188637, \"metric_value\": 367.0256, \"depth\": 2}\n",
      "      if obj[6]<=0.0:\n",
      "         # {\"feature\": \"GenHlth\", \"instances\": 138447, \"metric_value\": 272.9559, \"depth\": 3}\n",
      "         if obj[13]>2.022688750317936:\n",
      "            # {\"feature\": \"BMI\", \"instances\": 100186, \"metric_value\": 306.9305, \"depth\": 4}\n",
      "            if obj[3]<=32.24220396199034:\n",
      "               # {\"feature\": \"DiffWalk\", \"instances\": 58187, \"metric_value\": 181.6059, \"depth\": 5}\n",
      "               if obj[16]<=0.0:\n",
      "                  return '1'\n",
      "               elif obj[16]>0.0:\n",
      "                  return '1'\n",
      "               else:\n",
      "                  return '1'\n",
      "            elif obj[3]>32.24220396199034:\n",
      "               # {\"feature\": \"DiffWalk\", \"instances\": 41999, \"metric_value\": 258.8334, \"depth\": 5}\n",
      "               if obj[16]<=0.4228086675944223:\n",
      "                  return '1'\n",
      "               elif obj[16]>0.4228086675944223:\n",
      "                  return '1'\n",
      "               else:\n",
      "                  return '1'\n",
      "            else:\n",
      "               return '1'\n",
      "         elif obj[13]<=2.022688750317936:\n",
      "            # {\"feature\": \"Age\", \"instances\": 38261, \"metric_value\": 99.388, \"depth\": 4}\n",
      "            if obj[18]>6.892151835871861:\n",
      "               # {\"feature\": \"HvyAlcoholConsump\", \"instances\": 33568, \"metric_value\": 77.5545, \"depth\": 5}\n",
      "               if obj[10]<=0.7006620263147235:\n",
      "                  return '0'\n",
      "               elif obj[10]>0.7006620263147235:\n",
      "                  return '0'\n",
      "               else:\n",
      "                  return '0'\n",
      "            elif obj[18]<=6.892151835871861:\n",
      "               # {\"feature\": \"Fruits\", \"instances\": 4693, \"metric_value\": 81.15, \"depth\": 5}\n",
      "               if obj[8]>0.0:\n",
      "                  return '0'\n",
      "               elif obj[8]<=0.0:\n",
      "                  return '0'\n",
      "               else:\n",
      "                  return '0'\n",
      "            else:\n",
      "               return '0'\n",
      "         else:\n",
      "            return '1'\n",
      "      elif obj[6]>0.0:\n",
      "         # {\"feature\": \"BMI\", \"instances\": 50190, \"metric_value\": 309.9751, \"depth\": 3}\n",
      "         if obj[3]<=31.663892366720795:\n",
      "            # {\"feature\": \"PhysHlth\", \"instances\": 28511, \"metric_value\": 201.7598, \"depth\": 4}\n",
      "            if obj[15]<=10.408870331800351:\n",
      "               # {\"feature\": \"DiffWalk\", \"instances\": 18243, \"metric_value\": 147.1258, \"depth\": 5}\n",
      "               if obj[16]<=0.0:\n",
      "                  return '1'\n",
      "               elif obj[16]>0.0:\n",
      "                  return '1'\n",
      "               else:\n",
      "                  return '1'\n",
      "            elif obj[15]>10.408870331800351:\n",
      "               # {\"feature\": \"Stroke\", \"instances\": 10268, \"metric_value\": 142.5939, \"depth\": 5}\n",
      "               if obj[5]<=0.0:\n",
      "                  return '1'\n",
      "               elif obj[5]>0.0:\n",
      "                  return '1'\n",
      "               else:\n",
      "                  return '1'\n",
      "            else:\n",
      "               return '1'\n",
      "         elif obj[3]>31.663892366720795:\n",
      "            # {\"feature\": \"PhysHlth\", \"instances\": 21679, \"metric_value\": 238.8378, \"depth\": 4}\n",
      "            if obj[15]<=12.90841785712:\n",
      "               # {\"feature\": \"GenHlth\", \"instances\": 11900, \"metric_value\": 169.1972, \"depth\": 5}\n",
      "               if obj[13]<=3.3080602416629894:\n",
      "                  return '1'\n",
      "               elif obj[13]>3.3080602416629894:\n",
      "                  return '1'\n",
      "               else:\n",
      "                  return '1'\n",
      "            elif obj[15]>12.90841785712:\n",
      "               # {\"feature\": \"Education\", \"instances\": 9779, \"metric_value\": 169.062, \"depth\": 5}\n",
      "               if obj[19]>4.492852316711664:\n",
      "                  return '1'\n",
      "               elif obj[19]<=4.492852316711664:\n",
      "                  return '1'\n",
      "               else:\n",
      "                  return '1'\n",
      "            else:\n",
      "               return '1'\n",
      "         else:\n",
      "            return '1'\n",
      "      else:\n",
      "         return '1'\n",
      "   elif obj[0]<=0.0:\n",
      "      # {\"feature\": \"GenHlth\", \"instances\": 116821, \"metric_value\": 447.1359, \"depth\": 2}\n",
      "      if obj[13]>1.0:\n",
      "         # {\"feature\": \"Age\", \"instances\": 91229, \"metric_value\": 335.9929, \"depth\": 3}\n",
      "         if obj[18]>4.330360666955366:\n",
      "            # {\"feature\": \"Fruits\", \"instances\": 73140, \"metric_value\": 258.5287, \"depth\": 4}\n",
      "            if obj[8]>0.0:\n",
      "               # {\"feature\": \"Education\", \"instances\": 48203, \"metric_value\": 189.4392, \"depth\": 5}\n",
      "               if obj[19]<=5.123792816150425:\n",
      "                  return '0'\n",
      "               elif obj[19]>5.123792816150425:\n",
      "                  return '0'\n",
      "               else:\n",
      "                  return '0'\n",
      "            elif obj[8]<=0.0:\n",
      "               # {\"feature\": \"Education\", \"instances\": 24937, \"metric_value\": 178.7363, \"depth\": 5}\n",
      "               if obj[19]<=5.908132448723531:\n",
      "                  return '0'\n",
      "               elif obj[19]>5.908132448723531:\n",
      "                  return '0'\n",
      "               else:\n",
      "                  return '0'\n",
      "            else:\n",
      "               return '0'\n",
      "         elif obj[18]<=4.330360666955366:\n",
      "            # {\"feature\": \"Sex\", \"instances\": 18089, \"metric_value\": 219.153, \"depth\": 4}\n",
      "            if obj[17]<=0.9197533936831683:\n",
      "               # {\"feature\": \"Education\", \"instances\": 10509, \"metric_value\": 156.8689, \"depth\": 5}\n",
      "               if obj[19]<=5.177054278013611:\n",
      "                  return '0'\n",
      "               elif obj[19]>5.177054278013611:\n",
      "                  return '0'\n",
      "               else:\n",
      "                  return '0'\n",
      "            elif obj[17]>0.9197533936831683:\n",
      "               # {\"feature\": \"Fruits\", \"instances\": 7580, \"metric_value\": 153.1177, \"depth\": 5}\n",
      "               if obj[8]>0.0:\n",
      "                  return '0'\n",
      "               elif obj[8]<=0.0:\n",
      "                  return '0'\n",
      "               else:\n",
      "                  return '0'\n",
      "            else:\n",
      "               return '0'\n",
      "         else:\n",
      "            return '0'\n",
      "      elif obj[13]<=1.0:\n",
      "         # {\"feature\": \"Age\", \"instances\": 25592, \"metric_value\": 305.1059, \"depth\": 3}\n",
      "         if obj[18]>6.930505883671456:\n",
      "            # {\"feature\": \"BMI\", \"instances\": 14586, \"metric_value\": 224.4521, \"depth\": 4}\n",
      "            if obj[3]<=25.34956770862713:\n",
      "               # {\"feature\": \"Education\", \"instances\": 8228, \"metric_value\": 170.4637, \"depth\": 5}\n",
      "               if obj[19]>5.483076678406269:\n",
      "                  return '0'\n",
      "               elif obj[19]<=5.483076678406269:\n",
      "                  return '0'\n",
      "               else:\n",
      "                  return '0'\n",
      "            elif obj[3]>25.34956770862713:\n",
      "               # {\"feature\": \"Sex\", \"instances\": 6358, \"metric_value\": 144.9076, \"depth\": 5}\n",
      "               if obj[17]>0.0:\n",
      "                  return '0'\n",
      "               elif obj[17]<=0.0:\n",
      "                  return '0'\n",
      "               else:\n",
      "                  return '0'\n",
      "            else:\n",
      "               return '0'\n",
      "         elif obj[18]<=6.930505883671456:\n",
      "            # {\"feature\": \"Sex\", \"instances\": 11006, \"metric_value\": 205.7241, \"depth\": 4}\n",
      "            if obj[17]<=0.9001652194893445:\n",
      "               # {\"feature\": \"Income\", \"instances\": 6231, \"metric_value\": 155.2967, \"depth\": 5}\n",
      "               if obj[20]>7.0:\n",
      "                  return '0'\n",
      "               elif obj[20]<=7.0:\n",
      "                  return '0'\n",
      "               else:\n",
      "                  return '0'\n",
      "            elif obj[17]>0.9001652194893445:\n",
      "               # {\"feature\": \"Income\", \"instances\": 4775, \"metric_value\": 135.003, \"depth\": 5}\n",
      "               if obj[20]>7.0:\n",
      "                  return '0'\n",
      "               elif obj[20]<=7.0:\n",
      "                  return '0'\n",
      "               else:\n",
      "                  return '0'\n",
      "            else:\n",
      "               return '0'\n",
      "         else:\n",
      "            return '0'\n",
      "      else:\n",
      "         return '0'\n",
      "   else:\n",
      "      return '1'\n",
      "\n"
     ]
    }
   ],
   "source": [
    "with open(r\"C:\\Users\\TravelMate1\\Desktop\\projrectterm2\\outputs\\rules\\rules.py\", \"r\") as file:\n",
    "    print(file.read())"
   ]
  },
  {
   "cell_type": "code",
   "execution_count": 62,
   "id": "fe73fed8-2e0f-4383-b444-42756bbb4b9a",
   "metadata": {},
   "outputs": [
    {
     "name": "stdout",
     "output_type": "stream",
     "text": [
      "Empty DataFrame\n",
      "Columns: [Feature, Frequency, Importance]\n",
      "Index: []\n"
     ]
    }
   ],
   "source": [
    "# คำนวณสัดส่วน (ความสำคัญ)\n",
    "importance_df['Importance'] = importance_df['Frequency'] / importance_df['Frequency'].sum()\n",
    "print(importance_df)"
   ]
  },
  {
   "cell_type": "code",
   "execution_count": 70,
   "id": "1b500ad3-b5f6-4ecd-aee3-7afc6227f384",
   "metadata": {},
   "outputs": [
    {
     "name": "stdout",
     "output_type": "stream",
     "text": [
      "1\n"
     ]
    }
   ],
   "source": [
    "# กำหนดค่าของ obj เป็นลิสต์ที่ประกอบด้วยข้อมูลของฟีเจอร์ต่างๆ\n",
    "obj = [0.5, 1.0, 0.0, 29.0, 1.0, 0.0, 1.0, 1.0, 1.0, 0.0, 0.0, 1.0, 0.0, 3.0, 2.0, 1.0, 0.0, 1.0, 50, 1, 3]\n",
    "\n",
    "# เรียกใช้ฟังก์ชัน findDecision\n",
    "decision_result = rules.findDecision(obj)\n",
    "\n",
    "# แสดงผลลัพธ์\n",
    "print(decision_result)"
   ]
  },
  {
   "cell_type": "code",
   "execution_count": 74,
   "id": "c8d1453d-661f-42aa-8483-3d571bb6340b",
   "metadata": {},
   "outputs": [
    {
     "name": "stdout",
     "output_type": "stream",
     "text": [
      "Feature: HighBP, Importance: 0.07125518323573016\n",
      "Feature: HighChol, Importance: 0.01855529157580763\n",
      "Feature: CholCheck, Importance: 0.004108468886046864\n",
      "Feature: BMI, Importance: 0.14443853363699344\n",
      "Feature: Smoker, Importance: 0.04049333164537824\n",
      "Feature: Stroke, Importance: 0.013852276627653376\n",
      "Feature: HeartDiseaseorAttack, Importance: 0.017161434147934345\n",
      "Feature: PhysActivity, Importance: 0.0331662760993022\n",
      "Feature: Fruits, Importance: 0.03695799268090373\n",
      "Feature: Veggies, Importance: 0.02971568194817438\n",
      "Feature: HvyAlcoholConsump, Importance: 0.008056504031871173\n",
      "Feature: AnyHealthcare, Importance: 0.008794612050820655\n",
      "Feature: NoDocbcCost, Importance: 0.014379404302741096\n",
      "Feature: GenHlth, Importance: 0.0674194434619844\n",
      "Feature: MentHlth, Importance: 0.06955031025202146\n",
      "Feature: PhysHlth, Importance: 0.08909488116402724\n",
      "Feature: DiffWalk, Importance: 0.022449202108260312\n",
      "Feature: Sex, Importance: 0.02820256730714688\n",
      "Feature: Age, Importance: 0.10484271849851577\n",
      "Feature: Education, Importance: 0.07396183218952027\n",
      "Feature: Income, Importance: 0.10354405414916633\n"
     ]
    }
   ],
   "source": [
    "from sklearn.tree import DecisionTreeClassifier\n",
    "model = DecisionTreeClassifier()\n",
    "\n",
    "# ฝึกสอนโมเดลกับข้อมูล\n",
    "model.fit(X_train, y_train)\n",
    "\n",
    "# ตรวจสอบความสำคัญของฟีเจอร์\n",
    "importance = model.feature_importances_\n",
    "\n",
    "# แสดงฟีเจอร์ที่มีความสำคัญ\n",
    "for feature, imp in zip(X_train.columns, importance):\n",
    "    print(f\"Feature: {feature}, Importance: {imp}\")"
   ]
  },
  {
   "cell_type": "code",
   "execution_count": 77,
   "id": "373159e0-0370-4a3c-bd6e-462b9867b1b4",
   "metadata": {},
   "outputs": [
    {
     "name": "stdout",
     "output_type": "stream",
     "text": [
      "\n",
      "Features removed (Importance < 0.01):\n",
      "Feature: AnyHealthcare, Importance: 0.008794612050820655\n",
      "Feature: HvyAlcoholConsump, Importance: 0.008056504031871173\n",
      "Feature: CholCheck, Importance: 0.004108468886046864\n",
      "\n",
      "Features kept (Importance >= 0.01):\n",
      "['BMI', 'Age', 'Income', 'PhysHlth', 'Education', 'HighBP', 'MentHlth', 'GenHlth', 'Smoker', 'Fruits', 'PhysActivity', 'Veggies', 'Sex', 'DiffWalk', 'HighChol', 'HeartDiseaseorAttack', 'NoDocbcCost', 'Stroke']\n"
     ]
    }
   ],
   "source": [
    "# สร้าง DataFrame สำหรับจัดการฟีเจอร์และค่าความสำคัญ\n",
    "feature_importance_df = pd.DataFrame({\n",
    "    'Feature': X_train.columns,\n",
    "    'Importance': importance\n",
    "}).sort_values(by='Importance', ascending=False)\n",
    "\n",
    "# ฟิลเตอร์ฟีเจอร์ที่มีความสำคัญน้อยกว่า 0.01 และฟีเจอร์ที่ต้องเก็บไว้\n",
    "features_to_remove = feature_importance_df[feature_importance_df['Importance'] < 0.01]\n",
    "features_to_keep = feature_importance_df[feature_importance_df['Importance'] >= 0.01]['Feature']\n",
    "\n",
    "# แสดงฟีเจอร์ที่ถูกตัดออก พร้อมกับค่าความสำคัญ\n",
    "print(\"\\nFeatures removed (Importance < 0.01):\")\n",
    "for _, row in features_to_remove.iterrows():\n",
    "    print(f\"Feature: {row['Feature']}, Importance: {row['Importance']}\")\n",
    "\n",
    "# แสดงฟีเจอร์ที่เก็บไว้\n",
    "print(\"\\nFeatures kept (Importance >= 0.01):\")\n",
    "print(features_to_keep.tolist())"
   ]
  },
  {
   "cell_type": "markdown",
   "id": "213896f4-1000-4719-a929-71d88b94fb86",
   "metadata": {},
   "source": [
    "ฟีเจอร์ที่ถูกตัดออก (Importance < 0.01):\n",
    "AnyHealthcare: Importance = 0.0088\n",
    "HvyAlcoholConsump: Importance = 0.0081\n",
    "CholCheck: Importance = 0.0041"
   ]
  },
  {
   "cell_type": "code",
   "execution_count": 78,
   "id": "977a8eb4-c0af-4812-8f42-ad62b04e5df6",
   "metadata": {},
   "outputs": [],
   "source": [
    "# ฟีเจอร์ที่ต้องการเก็บไว้\n",
    "filtered_features = ['BMI', 'Age', 'Income', 'PhysHlth', 'Education', 'HighBP', \n",
    "                     'MentHlth', 'GenHlth', 'Smoker', 'Fruits', 'PhysActivity', \n",
    "                     'Veggies', 'Sex', 'DiffWalk', 'HighChol', 'HeartDiseaseorAttack', \n",
    "                     'NoDocbcCost', 'Stroke']\n",
    "\n",
    "# กรองชุดข้อมูล train และ test\n",
    "train_data_filtered = train_data_resampled[filtered_features + ['Diabetes_binary']]\n",
    "X_test_filtered = X_test[filtered_features]\n"
   ]
  },
  {
   "cell_type": "code",
   "execution_count": 79,
   "id": "a2eb8caa-cbfe-4131-8197-e2aab2fb7e86",
   "metadata": {},
   "outputs": [
    {
     "name": "stdout",
     "output_type": "stream",
     "text": [
      "25-01-20 19:12:58 - CHAID tree is going to be built...\n",
      "25-01-20 19:15:32 - -------------------------\n",
      "25-01-20 19:15:32 - finished in 153.86281633377075 seconds\n",
      "25-01-20 19:16:10 - -------------------------\n",
      "25-01-20 19:16:10 - Evaluate train set\n",
      "25-01-20 19:16:10 - -------------------------\n",
      "25-01-20 19:16:10 - Accuracy: 76.8789817258019% on 305458 instances\n",
      "25-01-20 19:16:10 - Labels: ['1' '0']\n",
      "25-01-20 19:16:10 - Confusion matrix: [[116240, 34136], [36489, 118593]]\n",
      "25-01-20 19:16:10 - Precision: 77.2996%, Recall: 76.1087%, F1: 76.6995%\n"
     ]
    },
    {
     "name": "stderr",
     "output_type": "stream",
     "text": [
      "C:\\Users\\TravelMate1\\AppData\\Local\\Temp\\ipykernel_9596\\2413867560.py:10: SettingWithCopyWarning: \n",
      "A value is trying to be set on a copy of a slice from a DataFrame.\n",
      "Try using .loc[row_indexer,col_indexer] = value instead\n",
      "\n",
      "See the caveats in the documentation: https://pandas.pydata.org/pandas-docs/stable/user_guide/indexing.html#returning-a-view-versus-a-copy\n",
      "  X_test_filtered['Diabetes_binary'] = y_test.astype(str)  # เปลี่ยน target เป็น string\n"
     ]
    },
    {
     "name": "stdout",
     "output_type": "stream",
     "text": [
      "Accuracy after filtering features: 75.57158625039419 %\n"
     ]
    }
   ],
   "source": [
    "# สร้าง config สำหรับ CHAID\n",
    "config = {\n",
    "    'algorithm': 'CHAID'\n",
    "}\n",
    "\n",
    "# สร้างโมเดล CHAID หลังจากกรองฟีเจอร์\n",
    "model_filtered = chef.fit(train_data_filtered, config, target_label='Diabetes_binary')\n",
    "\n",
    "# เตรียมชุดข้อมูลสำหรับการทำนาย\n",
    "X_test_filtered['Diabetes_binary'] = y_test.astype(str)  # เปลี่ยน target เป็น string\n",
    "predictions_filtered = []\n",
    "\n",
    "# ทำการพยากรณ์ผล\n",
    "for _, row in X_test_filtered.iterrows():\n",
    "    prediction = chef.predict(model_filtered, row.tolist())\n",
    "    predictions_filtered.append(prediction[0])  # ดึงผลลัพธ์การทำนาย\n",
    "\n",
    "# คำนวณ Accuracy หลังจากกรองฟีเจอร์\n",
    "y_pred_filtered = pd.Series(predictions_filtered, index=X_test_filtered.index).astype(int)\n",
    "accuracy_filtered = accuracy_score(y_test, y_pred_filtered)\n",
    "\n",
    "print(\"Accuracy after filtering features:\", accuracy_filtered * 100, \"%\")\n"
   ]
  },
  {
   "cell_type": "code",
   "execution_count": 80,
   "id": "a3e0abda-29c8-47ee-843a-6906b6dcef5e",
   "metadata": {},
   "outputs": [
    {
     "name": "stdout",
     "output_type": "stream",
     "text": [
      "Accuracy before filtering features: 75.57158625039419 %\n",
      "Accuracy after filtering features: 75.57158625039419 %\n"
     ]
    }
   ],
   "source": [
    "print(\"Accuracy before filtering features:\", accuracy * 100, \"%\")\n",
    "print(\"Accuracy after filtering features:\", accuracy_filtered * 100, \"%\")\n"
   ]
  },
  {
   "cell_type": "code",
   "execution_count": null,
   "id": "b5fa2f1a-8bc4-40b1-9075-e5d5d38c7e6e",
   "metadata": {},
   "outputs": [],
   "source": []
  }
 ],
 "metadata": {
  "kernelspec": {
   "display_name": "Python 3 (ipykernel)",
   "language": "python",
   "name": "python3"
  },
  "language_info": {
   "codemirror_mode": {
    "name": "ipython",
    "version": 3
   },
   "file_extension": ".py",
   "mimetype": "text/x-python",
   "name": "python",
   "nbconvert_exporter": "python",
   "pygments_lexer": "ipython3",
   "version": "3.12.8"
  }
 },
 "nbformat": 4,
 "nbformat_minor": 5
}
